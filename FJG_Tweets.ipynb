{
 "cells": [
  {
   "cell_type": "code",
   "execution_count": 1,
   "metadata": {
    "collapsed": true
   },
   "outputs": [],
   "source": [
    "# Dependencies\n",
    "import tweepy\n",
    "import pandas as pd\n",
    "import json\n",
    "import numpy as np\n",
    "import matplotlib.pyplot as plt\n",
    "from datetime import datetime\n",
    "\n",
    "# Import and Initialize Sentiment Analyzer\n",
    "from vaderSentiment.vaderSentiment import SentimentIntensityAnalyzer\n",
    "analyzer = SentimentIntensityAnalyzer()"
   ]
  },
  {
   "cell_type": "code",
   "execution_count": 2,
   "metadata": {
    "collapsed": true
   },
   "outputs": [],
   "source": [
    "# Twitter API Keys. Place your keys here.\n",
    "consumer_key = \"jHszemnvaELuv5AhnQR4ZLdrA\"\n",
    "consumer_secret = \"A4RjPlgzfPzwGuLloxjSglNRvpKz1UVf0QYdnEOn77966akdgD\"\n",
    "access_token = \"706845518274699264-7rizpUwb9IUpLKnsE8hlUee1UvOraGF\"\n",
    "access_token_secret = \"jT1cBzMTXcsy4lt7zLW8TUHi5kAX8r7BIX8uNc8bOGndo\"\n",
    "\n",
    "# Setup Tweepy API Authentication\n",
    "auth = tweepy.OAuthHandler(consumer_key, consumer_secret)\n",
    "auth.set_access_token(access_token, access_token_secret)\n",
    "api = tweepy.API(auth)"
   ]
  },
  {
   "cell_type": "code",
   "execution_count": 3,
   "metadata": {
    "scrolled": true
   },
   "outputs": [],
   "source": [
    "# Target User Account\n",
    "target_users = [\"@CNBC\",\"@CNNMoney\", \"@WSJ\", \"@YahooFinance\", \"@FinancialTimes\"]\n",
    "\n",
    "#Empty list to aggregate retrieved data for sentiments.\n",
    "sentiment_time = []\n",
    "\n",
    "for user in target_users:\n",
    "\n",
    "# Lists for holding sentiments\n",
    "    compound_list = []\n",
    "    positive_list = []\n",
    "    negative_list = []\n",
    "    neutral_list = []\n",
    "\n",
    "# A list to hold tweet timestamps\n",
    "    tweet_times = []\n",
    "    \n",
    "# Loop through 5 pages of tweets (total 100 tweets)\n",
    "    for page in tweepy.Cursor(api.user_timeline, id=user).pages(1):\n",
    "        \n",
    "# Get all tweets from home feed\n",
    "#public_tweets = api.user_timeline(user)\n",
    "        for status in page:\n",
    "            tweet = json.dumps(status._json, indent=3)\n",
    "            tweet = json.loads(tweet)\n",
    "            text = tweet['text']\n",
    "            raw_time = tweet[\"created_at\"]\n",
    "            #print(raw_time)\n",
    "            tweet_times.append(raw_time)\n",
    "            \n",
    "            converted_times = []\n",
    "            for x in tweet_times:\n",
    "                clean_time = datetime.strptime(x, \"%a %b %d %H:%M:%S %z %Y\")\n",
    "                converted_times.append(clean_time)             \n",
    "            \n",
    "            \n",
    "            # Run Vader Analysis on each tweet\n",
    "            compound = analyzer.polarity_scores(text)[\"compound\"]\n",
    "            pos = analyzer.polarity_scores(text)[\"pos\"]\n",
    "            neu = analyzer.polarity_scores(text)[\"neu\"]\n",
    "            neg = analyzer.polarity_scores(text)[\"neg\"]\n",
    "    \n",
    "# Add each value to the appropriate array\n",
    "            sentiment_time.append({\"Tweeter\": user,\n",
    "                                  \"Comp_Sent\": compound,\n",
    "                                  \"Posi_Sent\": pos,\n",
    "                                  \"Nuet_Sent\": neu,\n",
    "                                  \"Nege_Sent\": neg,\n",
    "                                  \"Time\": clean_time})\n",
    "   "
   ]
  },
  {
   "cell_type": "code",
   "execution_count": null,
   "metadata": {},
   "outputs": [],
   "source": [
    "print(clean_time)"
   ]
  },
  {
   "cell_type": "code",
   "execution_count": null,
   "metadata": {},
   "outputs": [],
   "source": [
    "'''# Convert tweet timestamps to datetime objects that can be manipulated by Python\n",
    "converted_times = []\n",
    "    for x in tweet_times:\n",
    "    clean_time = datetime.strptime(x, \"%a %b %d %H:%M:%S %z %Y\")\n",
    "    converted_times.append(clean_time)'''"
   ]
  },
  {
   "cell_type": "code",
   "execution_count": 4,
   "metadata": {},
   "outputs": [
    {
     "data": {
      "text/html": [
       "<div>\n",
       "<style>\n",
       "    .dataframe thead tr:only-child th {\n",
       "        text-align: right;\n",
       "    }\n",
       "\n",
       "    .dataframe thead th {\n",
       "        text-align: left;\n",
       "    }\n",
       "\n",
       "    .dataframe tbody tr th {\n",
       "        vertical-align: top;\n",
       "    }\n",
       "</style>\n",
       "<table border=\"1\" class=\"dataframe\">\n",
       "  <thead>\n",
       "    <tr style=\"text-align: right;\">\n",
       "      <th></th>\n",
       "      <th>Comp_Sent</th>\n",
       "      <th>Nege_Sent</th>\n",
       "      <th>Nuet_Sent</th>\n",
       "      <th>Posi_Sent</th>\n",
       "      <th>Time</th>\n",
       "      <th>Tweeter</th>\n",
       "    </tr>\n",
       "  </thead>\n",
       "  <tbody>\n",
       "    <tr>\n",
       "      <th>0</th>\n",
       "      <td>0.0000</td>\n",
       "      <td>0.000</td>\n",
       "      <td>1.000</td>\n",
       "      <td>0.000</td>\n",
       "      <td>2018-03-20 13:29:03+00:00</td>\n",
       "      <td>@CNBC</td>\n",
       "    </tr>\n",
       "    <tr>\n",
       "      <th>1</th>\n",
       "      <td>-0.4404</td>\n",
       "      <td>0.162</td>\n",
       "      <td>0.838</td>\n",
       "      <td>0.000</td>\n",
       "      <td>2018-03-20 13:27:05+00:00</td>\n",
       "      <td>@CNBC</td>\n",
       "    </tr>\n",
       "    <tr>\n",
       "      <th>2</th>\n",
       "      <td>0.0000</td>\n",
       "      <td>0.000</td>\n",
       "      <td>1.000</td>\n",
       "      <td>0.000</td>\n",
       "      <td>2018-03-20 13:18:15+00:00</td>\n",
       "      <td>@CNBC</td>\n",
       "    </tr>\n",
       "    <tr>\n",
       "      <th>3</th>\n",
       "      <td>0.2023</td>\n",
       "      <td>0.000</td>\n",
       "      <td>0.886</td>\n",
       "      <td>0.114</td>\n",
       "      <td>2018-03-20 13:13:34+00:00</td>\n",
       "      <td>@CNBC</td>\n",
       "    </tr>\n",
       "    <tr>\n",
       "      <th>4</th>\n",
       "      <td>-0.3818</td>\n",
       "      <td>0.157</td>\n",
       "      <td>0.843</td>\n",
       "      <td>0.000</td>\n",
       "      <td>2018-03-20 13:03:59+00:00</td>\n",
       "      <td>@CNBC</td>\n",
       "    </tr>\n",
       "  </tbody>\n",
       "</table>\n",
       "</div>"
      ],
      "text/plain": [
       "   Comp_Sent  Nege_Sent  Nuet_Sent  Posi_Sent                      Time  \\\n",
       "0     0.0000      0.000      1.000      0.000 2018-03-20 13:29:03+00:00   \n",
       "1    -0.4404      0.162      0.838      0.000 2018-03-20 13:27:05+00:00   \n",
       "2     0.0000      0.000      1.000      0.000 2018-03-20 13:18:15+00:00   \n",
       "3     0.2023      0.000      0.886      0.114 2018-03-20 13:13:34+00:00   \n",
       "4    -0.3818      0.157      0.843      0.000 2018-03-20 13:03:59+00:00   \n",
       "\n",
       "  Tweeter  \n",
       "0   @CNBC  \n",
       "1   @CNBC  \n",
       "2   @CNBC  \n",
       "3   @CNBC  \n",
       "4   @CNBC  "
      ]
     },
     "execution_count": 4,
     "metadata": {},
     "output_type": "execute_result"
    }
   ],
   "source": [
    "# Convert dictionary into a dataframe.\n",
    "sentiment_pd = pd.DataFrame(sentiment_time)\n",
    "com = sentiment_pd[\"Comp_Sent\"]\n",
    "pos = sentiment_pd[\"Posi_Sent\"]\n",
    "neg = sentiment_pd[\"Nege_Sent\"]\n",
    "nue = sentiment_pd[\"Nuet_Sent\"]\n",
    "clean_time = sentiment_pd[\"Time\"]\n",
    "\n",
    "sentiment_pd.head()"
   ]
  },
  {
   "cell_type": "code",
   "execution_count": null,
   "metadata": {
    "collapsed": true
   },
   "outputs": [],
   "source": [
    "'''# Print the Averages for each user\n",
    "print(\"\")\n",
    "print(\"User: %s\" % user)\n",
    "print(\"Compound: %s\" % (com))\n",
    "#print(\"Positive: %s\" % np.mean(positive_list))\n",
    "#print(\"Neutral: %s\" % np.mean(neutral_list))\n",
    "#print(\"Negative: %s\" % np.mean(negative_list))\n",
    "#print(len(compound_list))\n",
    "'''"
   ]
  },
  {
   "cell_type": "code",
   "execution_count": 5,
   "metadata": {
    "collapsed": true
   },
   "outputs": [],
   "source": [
    "# Save DF to a csv file.\n",
    "sentiment_pd.to_csv('Senitment_On_Tweets.csv')"
   ]
  },
  {
   "cell_type": "code",
   "execution_count": 9,
   "metadata": {},
   "outputs": [
    {
     "ename": "SyntaxError",
     "evalue": "positional argument follows keyword argument (<ipython-input-9-1612424876a0>, line 3)",
     "output_type": "error",
     "traceback": [
      "\u001b[0;36m  File \u001b[0;32m\"<ipython-input-9-1612424876a0>\"\u001b[0;36m, line \u001b[0;32m3\u001b[0m\n\u001b[0;31m    plt.scatter(t=sentiment_pd['Time'].value, com, c=sentiment_pd['Tweeter'].apply(lambda x: colors[x]),marker='o', alpha =.3, linewidths = 2)\u001b[0m\n\u001b[0m                                             ^\u001b[0m\n\u001b[0;31mSyntaxError\u001b[0m\u001b[0;31m:\u001b[0m positional argument follows keyword argument\n"
     ]
    }
   ],
   "source": [
    "# Test Plot\n",
    "colors = {'@CNBC':'red', '@CNNMoney':'blue', '@YahooFinance':'green', '@WSJ':'black', '@FinancialTimes': 'yellow'}\n",
    "plt.scatter(t=sentiment_pd['Time'].value, com, c=sentiment_pd['Tweeter'].apply(lambda x: colors[x]),marker='o', alpha =.3, linewidths = 2)\n",
    "plt.xlim(100,0)\n",
    "plt.ylim(1.00, -1.00)\n",
    "plt.xticks(plt.xticks()[0], [time.strftime(\"%m/%d/%y, %H:%M:%S\", time.localtime(item)) for item in plt.xticks()[0]*3600])\n",
    "plt.xticks(rotation='vertical')"
   ]
  },
  {
   "cell_type": "code",
   "execution_count": null,
   "metadata": {},
   "outputs": [],
   "source": [
    "\n",
    "plt.xlabel(\"100 Recent Tweets\")\n",
    "plt.ylabel(\"Total (Sentiment) Polarity\")\n",
    "plt.title(\"Business News Sentiment\")\n",
    "#plt.legend(\"\")"
   ]
  },
  {
   "cell_type": "code",
   "execution_count": null,
   "metadata": {},
   "outputs": [],
   "source": [
    "plt.show()"
   ]
  },
  {
   "cell_type": "code",
   "execution_count": null,
   "metadata": {
    "collapsed": true
   },
   "outputs": [],
   "source": [
    "\n"
   ]
  }
 ],
 "metadata": {
  "kernelspec": {
   "display_name": "Python 3",
   "language": "python",
   "name": "python3"
  },
  "language_info": {
   "codemirror_mode": {
    "name": "ipython",
    "version": 3
   },
   "file_extension": ".py",
   "mimetype": "text/x-python",
   "name": "python",
   "nbconvert_exporter": "python",
   "pygments_lexer": "ipython3",
   "version": "3.6.3"
  }
 },
 "nbformat": 4,
 "nbformat_minor": 2
}
